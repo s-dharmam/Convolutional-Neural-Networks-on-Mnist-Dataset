{
  "nbformat": 4,
  "nbformat_minor": 0,
  "metadata": {
    "colab": {
      "name": "DeepLearning_CNN.ipynb",
      "provenance": [],
      "collapsed_sections": [],
      "toc_visible": true
    },
    "kernelspec": {
      "name": "python3",
      "display_name": "Python 3"
    }
  },
  "cells": [
    {
      "cell_type": "markdown",
      "metadata": {
        "id": "lG3LyaFBQnYX"
      },
      "source": [
        "# **Deep Learning: Convolutional Neural Networks**\n",
        "This notebook introduces deep learning with Multilayer Perceptrons (MLPs) as an example. We will look at the following topics in this notebook\n",
        "\n",
        "1. Data Preprocessing\n",
        "2. Build the network\n",
        "3. Train/Test the network\n",
        "4. Experiment with hyperparameters\n",
        "---\n",
        "\n"
      ]
    },
    {
      "cell_type": "markdown",
      "metadata": {
        "id": "Lg8cXi-YRXav"
      },
      "source": [
        "# **Setting up the environment**"
      ]
    },
    {
      "cell_type": "code",
      "metadata": {
        "id": "raUyIqYYQm3U"
      },
      "source": [
        "import numpy as np\n",
        "from tensorflow import keras\n",
        "from tensorflow.keras import layers\n",
        "from tensorflow.keras.models import Sequential"
      ],
      "execution_count": null,
      "outputs": []
    },
    {
      "cell_type": "markdown",
      "metadata": {
        "id": "Hguyc5VqYMm9"
      },
      "source": [
        "# **Data Preprocessing**\n",
        "Here we will look at how to get the data ready to build our networks, train and test them. We will use MNIST dataset as an example. The MNIST dataset contains handwritten digits as shown in the following figure\n",
        "![image.png](https://stathwang.github.io/images/mnist.png) \n",
        "\n",
        "We will use this data and look at:\n",
        "1. Data Normalization/Standardization\n",
        "2. Divide the data into train/validation/test subsets\n",
        "3. Reshaping the data\n",
        "3. Convert class labels into categorical variables"
      ]
    },
    {
      "cell_type": "code",
      "metadata": {
        "colab": {
          "base_uri": "https://localhost:8080/"
        },
        "id": "0WFDGjsAaAlZ",
        "outputId": "049fa6b2-8586-4aca-8ab6-499fdb50ae84"
      },
      "source": [
        "# Model / data parameters\n",
        "num_classes = 10\n",
        "input_shape = (28,28,1)\n",
        "\n",
        "# the data, split between train and test sets \n",
        "# the data is already split between train and test. In practice, \n",
        "# we will have to manually split our data into train/test subsets\n",
        "(x_train, y_train), (x_test, y_test) = keras.datasets.mnist.load_data()\n",
        "# Look at the shape of the x_train and y_train\n",
        "print(\"x_train shape:\", x_train.shape)\n",
        "print(\"x_test shape:\", x_test.shape)\n",
        "\n",
        "# Scale images to the [0, 1] range\n",
        "x_train = x_train.astype(\"float32\") / 255\n",
        "x_test = x_test.astype(\"float32\") / 255\n",
        "\n",
        "# Make sure the images have shape (28,28,1)\n",
        "x_train = np.expand_dims(x_train,-1)\n",
        "x_test = np.expand_dims(x_test,-1)\n",
        "print(\"x_train shape:\", x_train.shape)\n",
        "print(x_train.shape[0], \"train samples\")\n",
        "print(x_test.shape[0], \"test samples\")\n",
        "\n",
        "# convert class vectors to binary class matrices\n",
        "y_train = keras.utils.to_categorical(y_train, num_classes)\n",
        "y_test = keras.utils.to_categorical(y_test, num_classes)"
      ],
      "execution_count": null,
      "outputs": [
        {
          "output_type": "stream",
          "text": [
            "x_train shape: (60000, 28, 28)\n",
            "x_test shape: (10000, 28, 28)\n",
            "x_train shape: (60000, 28, 28, 1)\n",
            "60000 train samples\n",
            "10000 test samples\n"
          ],
          "name": "stdout"
        }
      ]
    },
    {
      "cell_type": "markdown",
      "metadata": {
        "id": "seT3ovGVVFto"
      },
      "source": [
        "# **Coding the network**"
      ]
    },
    {
      "cell_type": "code",
      "metadata": {
        "id": "k4D0bzGcVLi7"
      },
      "source": [
        "# Coding up a multilayer perceptron\n",
        "def buildCNN (input_shape = input_shape, num_classes=num_classes):\n",
        "  model = Sequential([\n",
        "    keras.Input(shape=input_shape),\n",
        "    layers.Conv2D(32,kernel_size=(3,3),activation='relu'),\n",
        "    layers.MaxPool2D(pool_size=(2,2)),\n",
        "    layers.Conv2D(8,kernel_size=(3,3),activation='relu'),\n",
        "    layers.MaxPool2D(pool_size=(2,2)),\n",
        "    layers.Flatten(),\n",
        "    layers.Dense(64,activation='relu'),\n",
        "    layers.Dense(num_classes,activation='softmax')       \n",
        "  ])\n",
        "\n",
        "  print(model.summary())\n",
        "  return model\n"
      ],
      "execution_count": null,
      "outputs": []
    },
    {
      "cell_type": "markdown",
      "metadata": {
        "id": "8JdWrMkki2pT"
      },
      "source": [
        "# **Train/Test the network**"
      ]
    },
    {
      "cell_type": "code",
      "metadata": {
        "colab": {
          "base_uri": "https://localhost:8080/"
        },
        "id": "41SV1VwiiECQ",
        "outputId": "2b3efc5a-9d7d-400b-e3b5-800b7c3f4c35"
      },
      "source": [
        "# Initialize the MLP model\n",
        "cnn_MNIST = buildCNN(input_shape=input_shape,num_classes=num_classes)\n",
        "\n",
        "# Define the optimizer and the loss function we want to use to train the network\n",
        "opt = keras.optimizers.Adam(learning_rate=0.01)\n",
        "cnn_MNIST.compile(loss=\"categorical_crossentropy\", optimizer=opt, metrics=[\"accuracy\"])\n",
        "\n",
        "# Questions\n",
        "# What is categorical cross entropy?\n",
        "# What is adam optimizer? \n",
        "\n",
        "# Train the model\n",
        "batch_size = 256\n",
        "epochs = 10\n",
        "cnn_MNIST.fit(x_train,y_train,batch_size=batch_size,epochs=epochs,validation_split=0.3)"
      ],
      "execution_count": null,
      "outputs": [
        {
          "output_type": "stream",
          "text": [
            "Model: \"sequential_2\"\n",
            "_________________________________________________________________\n",
            "Layer (type)                 Output Shape              Param #   \n",
            "=================================================================\n",
            "conv2d_4 (Conv2D)            (None, 26, 26, 32)        320       \n",
            "_________________________________________________________________\n",
            "max_pooling2d_4 (MaxPooling2 (None, 13, 13, 32)        0         \n",
            "_________________________________________________________________\n",
            "conv2d_5 (Conv2D)            (None, 11, 11, 8)         2312      \n",
            "_________________________________________________________________\n",
            "max_pooling2d_5 (MaxPooling2 (None, 5, 5, 8)           0         \n",
            "_________________________________________________________________\n",
            "flatten_2 (Flatten)          (None, 200)               0         \n",
            "_________________________________________________________________\n",
            "dense_4 (Dense)              (None, 64)                12864     \n",
            "_________________________________________________________________\n",
            "dense_5 (Dense)              (None, 10)                650       \n",
            "=================================================================\n",
            "Total params: 16,146\n",
            "Trainable params: 16,146\n",
            "Non-trainable params: 0\n",
            "_________________________________________________________________\n",
            "None\n",
            "Epoch 1/10\n",
            "165/165 [==============================] - 23s 139ms/step - loss: 0.6039 - accuracy: 0.7977 - val_loss: 0.1301 - val_accuracy: 0.9573\n",
            "Epoch 2/10\n",
            "165/165 [==============================] - 23s 140ms/step - loss: 0.0957 - accuracy: 0.9702 - val_loss: 0.0977 - val_accuracy: 0.9702\n",
            "Epoch 3/10\n",
            "165/165 [==============================] - 23s 138ms/step - loss: 0.0821 - accuracy: 0.9743 - val_loss: 0.0608 - val_accuracy: 0.9819\n",
            "Epoch 4/10\n",
            "165/165 [==============================] - 23s 137ms/step - loss: 0.0461 - accuracy: 0.9865 - val_loss: 0.0645 - val_accuracy: 0.9808\n",
            "Epoch 5/10\n",
            "165/165 [==============================] - 23s 139ms/step - loss: 0.0400 - accuracy: 0.9871 - val_loss: 0.0625 - val_accuracy: 0.9801\n",
            "Epoch 6/10\n",
            "165/165 [==============================] - 23s 138ms/step - loss: 0.0447 - accuracy: 0.9850 - val_loss: 0.0881 - val_accuracy: 0.9752\n",
            "Epoch 7/10\n",
            "165/165 [==============================] - 23s 138ms/step - loss: 0.0463 - accuracy: 0.9850 - val_loss: 0.0604 - val_accuracy: 0.9846\n",
            "Epoch 8/10\n",
            "165/165 [==============================] - 23s 139ms/step - loss: 0.0257 - accuracy: 0.9912 - val_loss: 0.0660 - val_accuracy: 0.9825\n",
            "Epoch 9/10\n",
            "165/165 [==============================] - 23s 140ms/step - loss: 0.0293 - accuracy: 0.9905 - val_loss: 0.0625 - val_accuracy: 0.9832\n",
            "Epoch 10/10\n",
            "165/165 [==============================] - 23s 138ms/step - loss: 0.0219 - accuracy: 0.9929 - val_loss: 0.0630 - val_accuracy: 0.9841\n"
          ],
          "name": "stdout"
        },
        {
          "output_type": "execute_result",
          "data": {
            "text/plain": [
              "<tensorflow.python.keras.callbacks.History at 0x7f83568b6208>"
            ]
          },
          "metadata": {
            "tags": []
          },
          "execution_count": 11
        }
      ]
    },
    {
      "cell_type": "code",
      "metadata": {
        "colab": {
          "base_uri": "https://localhost:8080/",
          "height": 332
        },
        "id": "wBDgNP3KlUnf",
        "outputId": "b857bcb1-c6aa-496b-b68b-c6c1e5ec0d9f"
      },
      "source": [
        "# Test the trained network \n",
        "score = cnn_MNIST.evaluate(x_test, y_test, verbose=0)\n",
        "print(\"Test loss:\", round(score[0],2))\n",
        "print(\"Test accuracy:\", round(score[1],2))\n",
        "\n",
        "# Display 9 randomly selected images and the corresponding predictions\n",
        "import matplotlib.pyplot as plt\n",
        "fig, ax = plt.subplots(3,3)\n",
        "randomSample = np.random.choice(x_test.shape[0],9)\n",
        "for i,sampleLocation in enumerate(randomSample):\n",
        "  testImg = x_test[sampleLocation,:]\n",
        "  testArr = testImg.reshape(1,28,28,1)\n",
        "  m = i//3\n",
        "  n = i%3\n",
        "  ax[m,n].imshow(testImg.reshape(28,28))\n",
        "  ax[m,n].set_title(np.argmax(cnn_MNIST.predict(testArr)))\n",
        "fig.tight_layout()\n",
        "plt.show()"
      ],
      "execution_count": null,
      "outputs": [
        {
          "output_type": "stream",
          "text": [
            "Test loss: 0.06\n",
            "Test accuracy: 0.99\n"
          ],
          "name": "stdout"
        },
        {
          "output_type": "display_data",
          "data": {
            "image/png": "[encoded data removed]",
            "text/plain": [
              "<Figure size 432x288 with 9 Axes>"
            ]
          },
          "metadata": {
            "tags": [],
            "needs_background": "light"
          }
        }
      ]
    },
    {
      "cell_type": "markdown",
      "metadata": {
        "id": "Xp-44GZqpe9A"
      },
      "source": [
        "# **Experiment with hyperparameters**\n",
        "experiments\n",
        "1. Change the size/structure of the network and see what happens\n",
        "2. Try different activation functions: sigmoid, relu, tanh\n",
        "3. Try different loss functions: mean_squared_error, mean_absolute_error, kl_divergence\n",
        "4. Try different optimizers: sgd, rmsprop\n",
        "5. Try different learning rates \n",
        "6. Change your batch size and number of epochs \n",
        "7. Add dropout\n",
        "8. Try different kernel sizes\n",
        "9. Try different max-pooling\n"
      ]
    }
  ]
}